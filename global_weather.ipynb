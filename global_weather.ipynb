{
 "cells": [
  {
   "cell_type": "markdown",
   "metadata": {},
   "source": [
    "1. Dataset Exploration and Justification (5 Marks):\n",
    "• Download the dataset from Kaggle.\n",
    "• Provide a brief justification (3-4 lines) for why this dataset is suit-\n",
    "able for weather-related analysis and predictions on a global scale.\n",
    "\n",
    "Answer: This dataset is real-time data with daily updates, it contains daily weather information for capital cities around the world. It starts from 29th August 2023, provides over 40+ features, including  temperature, wind, pressure, precipitation, humidity, visibility, air quality measurements and more. It has enough information, suitable for us to analyze weather patterns globally, exploring climate trends, and understanding the relationships between different weather parameters."
   ]
  },
  {
   "cell_type": "markdown",
   "metadata": {},
   "source": [
    "2. Data Processing (20 Marks):\n",
    "• Load the dataset into a pandas DataFrame.\n",
    "• Clean the dataset (e.g., handle missing values, convert columns to\n",
    "appropriate data types).\n",
    "• Store the cleaned data in a CSV file with appropriate column\n",
    "names and formats.\n",
    "• Display a summary of key statistics from the dataset (e.g., mean,\n",
    "max, and min temperatures, humidity levels, etc.)."
   ]
  },
  {
   "cell_type": "code",
   "execution_count": null,
   "metadata": {},
   "outputs": [],
   "source": []
  }
 ],
 "metadata": {
  "kernelspec": {
   "display_name": "Python 3",
   "language": "python",
   "name": "python3"
  },
  "language_info": {
   "name": "python",
   "version": "3.12.6"
  }
 },
 "nbformat": 4,
 "nbformat_minor": 2
}
